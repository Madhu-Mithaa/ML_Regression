{
  "nbformat": 4,
  "nbformat_minor": 0,
  "metadata": {
    "colab": {
      "name": "Regression.ipynb",
      "provenance": [],
      "collapsed_sections": []
    },
    "kernelspec": {
      "name": "python3",
      "display_name": "Python 3"
    },
    "language_info": {
      "name": "python"
    }
  },
  "cells": [
    {
      "cell_type": "markdown",
      "metadata": {
        "id": "XMrVYgXNzwo-"
      },
      "source": [
        "# **Machine Learning - Regression**\n"
      ]
    },
    {
      "cell_type": "markdown",
      "metadata": {
        "id": "mdMrIwpG0gpg"
      },
      "source": [
        "# **Data Set Description:**\n",
        " Title  : **Yacht Hydrodynamics Data Set**\n",
        "\n",
        " Link   : https://archive.ics.uci.edu/ml/datasets/yacht+hydrodynamics\n",
        "\n",
        "**Data Set Information:**\n",
        "\n",
        "Prediction of residuary resistance of sailing yachts at the initial design stage is of a great value for evaluating the ships performance and for estimating the required propulsive power. Essential inputs include the basic hull dimensions and the boat velocity.\n",
        "\n",
        "The Delft data set comprises 308 full-scale experiments, which were performed at the Delft Ship Hydromechanics Laboratory for that purpose.\n",
        "These experiments include 22 different hull forms, derived from a parent form closely related to the Standfast designed by Frans Maas.\n",
        "\n",
        "**Attribute Information:**\n",
        "\n",
        "Variations concern hull geometry coefficients and the Froude number:\n",
        "\n",
        "1. Longitudinal position of the center of buoyancy, adimensional.\n",
        "2. Prismatic coefficient, adimensional.\n",
        "3. Length-displacement ratio, adimensional.\n",
        "4. Beam-draught ratio, adimensional.\n",
        "5. Length-beam ratio, adimensional.\n",
        "6. Froude number, adimensional.\n",
        "\n",
        "The measured variable is the residuary resistance per unit weight of displacement:\n",
        "\n",
        "7. Residuary resistance per unit weight of displacement, adimensional.\n"
      ]
    },
    {
      "cell_type": "markdown",
      "metadata": {
        "id": "z6mqz67T2atO"
      },
      "source": [
        "# **Importing Data set into Google Collab**"
      ]
    },
    {
      "cell_type": "code",
      "metadata": {
        "id": "sn6fjDHZzlyT",
        "colab": {
          "resources": {
            "http://localhost:8080/nbextensions/google.colab/files.js": {
              "data": "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",
              "ok": true,
              "headers": [
                [
                  "content-type",
                  "application/javascript"
                ]
              ],
              "status": 200,
              "status_text": ""
            }
          },
          "base_uri": "https://localhost:8080/",
          "height": 72
        },
        "outputId": "2bb320d6-1b4c-43a2-8811-fc107523dc68"
      },
      "source": [
        "from google.colab import files\n",
        "uploaded = files.upload()\n"
      ],
      "execution_count": null,
      "outputs": [
        {
          "output_type": "display_data",
          "data": {
            "text/html": [
              "\n",
              "     <input type=\"file\" id=\"files-2a01e5fa-367c-4ca3-bc0f-1c5316c9fa16\" name=\"files[]\" multiple disabled\n",
              "        style=\"border:none\" />\n",
              "     <output id=\"result-2a01e5fa-367c-4ca3-bc0f-1c5316c9fa16\">\n",
              "      Upload widget is only available when the cell has been executed in the\n",
              "      current browser session. Please rerun this cell to enable.\n",
              "      </output>\n",
              "      <script src=\"/nbextensions/google.colab/files.js\"></script> "
            ],
            "text/plain": [
              "<IPython.core.display.HTML object>"
            ]
          },
          "metadata": {}
        },
        {
          "output_type": "stream",
          "name": "stdout",
          "text": [
            "Saving Yatch.xls to Yatch (1).xls\n"
          ]
        }
      ]
    },
    {
      "cell_type": "code",
      "metadata": {
        "id": "y4xFTEkvz-OQ",
        "colab": {
          "base_uri": "https://localhost:8080/",
          "height": 419
        },
        "outputId": "c2d36c33-683e-4b1c-c55e-d459e1f64a85"
      },
      "source": [
        "import io\n",
        "import numpy as np\n",
        "import pandas as pd\n",
        "from scipy.stats import pearsonr\n",
        "df2 = pd.read_excel(io.BytesIO(uploaded['Yatch.xls']))\n",
        "res = []\n",
        "X1 = X2 = X3 = X4 = X5 = X6 = X7 = []\n",
        "for column in df2.columns:\n",
        "    # Storing the rows of a column\n",
        "    # into a temporary list\n",
        "    li = df2[column].tolist()\n",
        "    # appending the temporary list\n",
        "    res.append(li)\n",
        "X1 = res[0]\n",
        "X2 = res[1]\n",
        "X3 = res[2]\n",
        "X4 = res[3]\n",
        "X5 = res[4]\n",
        "X6 = res[5]\n",
        "Y  = res[6]\n",
        "df2"
      ],
      "execution_count": null,
      "outputs": [
        {
          "output_type": "execute_result",
          "data": {
            "text/html": [
              "<div>\n",
              "<style scoped>\n",
              "    .dataframe tbody tr th:only-of-type {\n",
              "        vertical-align: middle;\n",
              "    }\n",
              "\n",
              "    .dataframe tbody tr th {\n",
              "        vertical-align: top;\n",
              "    }\n",
              "\n",
              "    .dataframe thead th {\n",
              "        text-align: right;\n",
              "    }\n",
              "</style>\n",
              "<table border=\"1\" class=\"dataframe\">\n",
              "  <thead>\n",
              "    <tr style=\"text-align: right;\">\n",
              "      <th></th>\n",
              "      <th>Longitudinal position</th>\n",
              "      <th>Prismatic coefficient</th>\n",
              "      <th>Length-displacement ratio</th>\n",
              "      <th>Beam-draught ratio</th>\n",
              "      <th>Length-beam ratio</th>\n",
              "      <th>Froude number</th>\n",
              "      <th>Residuary resistance</th>\n",
              "    </tr>\n",
              "  </thead>\n",
              "  <tbody>\n",
              "    <tr>\n",
              "      <th>0</th>\n",
              "      <td>-2.3</td>\n",
              "      <td>0.568</td>\n",
              "      <td>4.78</td>\n",
              "      <td>3.99</td>\n",
              "      <td>3.17</td>\n",
              "      <td>0.125</td>\n",
              "      <td>0.11</td>\n",
              "    </tr>\n",
              "    <tr>\n",
              "      <th>1</th>\n",
              "      <td>-2.3</td>\n",
              "      <td>0.568</td>\n",
              "      <td>4.78</td>\n",
              "      <td>3.99</td>\n",
              "      <td>3.17</td>\n",
              "      <td>0.150</td>\n",
              "      <td>0.27</td>\n",
              "    </tr>\n",
              "    <tr>\n",
              "      <th>2</th>\n",
              "      <td>-2.3</td>\n",
              "      <td>0.568</td>\n",
              "      <td>4.78</td>\n",
              "      <td>3.99</td>\n",
              "      <td>3.17</td>\n",
              "      <td>0.175</td>\n",
              "      <td>0.47</td>\n",
              "    </tr>\n",
              "    <tr>\n",
              "      <th>3</th>\n",
              "      <td>-2.3</td>\n",
              "      <td>0.568</td>\n",
              "      <td>4.78</td>\n",
              "      <td>3.99</td>\n",
              "      <td>3.17</td>\n",
              "      <td>0.200</td>\n",
              "      <td>0.78</td>\n",
              "    </tr>\n",
              "    <tr>\n",
              "      <th>4</th>\n",
              "      <td>-2.3</td>\n",
              "      <td>0.568</td>\n",
              "      <td>4.78</td>\n",
              "      <td>3.99</td>\n",
              "      <td>3.17</td>\n",
              "      <td>0.225</td>\n",
              "      <td>1.18</td>\n",
              "    </tr>\n",
              "    <tr>\n",
              "      <th>...</th>\n",
              "      <td>...</td>\n",
              "      <td>...</td>\n",
              "      <td>...</td>\n",
              "      <td>...</td>\n",
              "      <td>...</td>\n",
              "      <td>...</td>\n",
              "      <td>...</td>\n",
              "    </tr>\n",
              "    <tr>\n",
              "      <th>303</th>\n",
              "      <td>-2.3</td>\n",
              "      <td>0.600</td>\n",
              "      <td>4.34</td>\n",
              "      <td>4.23</td>\n",
              "      <td>2.73</td>\n",
              "      <td>0.350</td>\n",
              "      <td>8.47</td>\n",
              "    </tr>\n",
              "    <tr>\n",
              "      <th>304</th>\n",
              "      <td>-2.3</td>\n",
              "      <td>0.600</td>\n",
              "      <td>4.34</td>\n",
              "      <td>4.23</td>\n",
              "      <td>2.73</td>\n",
              "      <td>0.375</td>\n",
              "      <td>12.27</td>\n",
              "    </tr>\n",
              "    <tr>\n",
              "      <th>305</th>\n",
              "      <td>-2.3</td>\n",
              "      <td>0.600</td>\n",
              "      <td>4.34</td>\n",
              "      <td>4.23</td>\n",
              "      <td>2.73</td>\n",
              "      <td>0.400</td>\n",
              "      <td>19.59</td>\n",
              "    </tr>\n",
              "    <tr>\n",
              "      <th>306</th>\n",
              "      <td>-2.3</td>\n",
              "      <td>0.600</td>\n",
              "      <td>4.34</td>\n",
              "      <td>4.23</td>\n",
              "      <td>2.73</td>\n",
              "      <td>0.425</td>\n",
              "      <td>30.48</td>\n",
              "    </tr>\n",
              "    <tr>\n",
              "      <th>307</th>\n",
              "      <td>-2.3</td>\n",
              "      <td>0.600</td>\n",
              "      <td>4.34</td>\n",
              "      <td>4.23</td>\n",
              "      <td>2.73</td>\n",
              "      <td>0.450</td>\n",
              "      <td>46.66</td>\n",
              "    </tr>\n",
              "  </tbody>\n",
              "</table>\n",
              "<p>308 rows × 7 columns</p>\n",
              "</div>"
            ],
            "text/plain": [
              "      Longitudinal position  ...  Residuary resistance\n",
              "0                      -2.3  ...                  0.11\n",
              "1                      -2.3  ...                  0.27\n",
              "2                      -2.3  ...                  0.47\n",
              "3                      -2.3  ...                  0.78\n",
              "4                      -2.3  ...                  1.18\n",
              "..                      ...  ...                   ...\n",
              "303                    -2.3  ...                  8.47\n",
              "304                    -2.3  ...                 12.27\n",
              "305                    -2.3  ...                 19.59\n",
              "306                    -2.3  ...                 30.48\n",
              "307                    -2.3  ...                 46.66\n",
              "\n",
              "[308 rows x 7 columns]"
            ]
          },
          "metadata": {},
          "execution_count": 2
        }
      ]
    },
    {
      "cell_type": "markdown",
      "metadata": {
        "id": "BmwzUS5J3bLI"
      },
      "source": [
        "# **Calculating all the required variables**"
      ]
    },
    {
      "cell_type": "code",
      "metadata": {
        "id": "z5vmcvRXGMU3"
      },
      "source": [
        "#Squares of X variables\n",
        "x12= [i*i for i in X1]\n",
        "x22= [i*i for i in X2]\n",
        "x32= [i*i for i in X3]\n",
        "x42= [i*i for i in X4]\n",
        "x52= [i*i for i in X5]\n",
        "x62= [i*i for i in X6]\n",
        "\n",
        "#Mul with X and Y variables\n",
        "x1y = [i*j for i,j in zip(X1,Y)]\n",
        "x2y = [i*j for i,j in zip(X2,Y)]\n",
        "x3y = [i*j for i,j in zip(X3,Y)]\n",
        "x4y = [i*j for i,j in zip(X4,Y)]\n",
        "x5y = [i*j for i,j in zip(X5,Y)]\n",
        "x6y = [i*j for i,j in zip(X6,Y)]\n",
        "\n",
        "#Mul with X variables\n",
        "x1x2 = [i*j for i,j in zip(X1,X2)]\n",
        "x1x3 = [i*j for i,j in zip(X1,X3)]\n",
        "x1x4 = [i*j for i,j in zip(X1,X4)]\n",
        "x1x5 = [i*j for i,j in zip(X1,X5)]\n",
        "x1x6 = [i*j for i,j in zip(X1,X6)]\n",
        "\n",
        "#x2x1 = [i*j for i,j in zip(X2,X1)]\n",
        "x2x3 = [i*j for i,j in zip(X2,X3)]\n",
        "x2x4 = [i*j for i,j in zip(X2,X4)]\n",
        "x2x5 = [i*j for i,j in zip(X2,X5)]\n",
        "x2x6 = [i*j for i,j in zip(X2,X6)]\n",
        "\n",
        "x3x4 = [i*j for i,j in zip(X3,X4)]\n",
        "x3x5 = [i*j for i,j in zip(X3,X5)]\n",
        "x3x6 = [i*j for i,j in zip(X3,X6)]\n",
        "\n",
        "x4x5 = [i*j for i,j in zip(X4,X5)]\n",
        "x4x6 = [i*j for i,j in zip(X4,X6)]\n",
        "\n",
        "\n",
        "x5x6 = [i*j for i,j in zip(X5,X6)]\n"
      ],
      "execution_count": null,
      "outputs": []
    },
    {
      "cell_type": "markdown",
      "metadata": {
        "id": "sYy49QBJ33Of"
      },
      "source": [
        "# **Least Square Regression:**"
      ]
    },
    {
      "cell_type": "code",
      "metadata": {
        "colab": {
          "base_uri": "https://localhost:8080/"
        },
        "id": "t6HyBuR44ZRx",
        "outputId": "af4bbcb6-2b10-42f8-ee62-e4810df95f5c"
      },
      "source": [
        "n = len(X1)\n",
        "m1 = (n*sum(x1y) - sum(X1)*sum(Y))/(n*sum(x12) - sum(X1)*sum(X1))\n",
        "m2 = (n*sum(x2y) - sum(X2)*sum(Y))/(n*sum(x22) - sum(X2)*sum(X2))\n",
        "m3 = (n*sum(x3y) - sum(X3)*sum(Y))/(n*sum(x32) - sum(X3)*sum(X3))\n",
        "m4 = (n*sum(x4y) - sum(X4)*sum(Y))/(n*sum(x42) - sum(X4)*sum(X4))\n",
        "m5 = (n*sum(x5y) - sum(X5)*sum(Y))/(n*sum(x52) - sum(X5)*sum(X5))\n",
        "m6 = (n*sum(x6y) - sum(X6)*sum(Y))/(n*sum(x62) - sum(X6)*sum(X6))\n",
        "c  = (sum(Y) - m1*sum(X1)- m2*sum(X2) - m3*sum(X3) - m4*sum(X4) - m5*sum(X5) - m6*sum(X6) )/n\n",
        "\n",
        "print(\" m1:\", m1,\"\\n\",\n",
        "      \"m2:\", m2,\"\\n\",\n",
        "      \"m3:\", m3,\"\\n\",\n",
        "      \"m4:\", m4,\"\\n\",\n",
        "      \"m5:\", m5,\"\\n\",\n",
        "      \"m6:\", m6,\"\\n\",\n",
        "      \"c:\", c)"
      ],
      "execution_count": null,
      "outputs": [
        {
          "output_type": "stream",
          "name": "stdout",
          "text": [
            " m1: 0.19342278824117998 \n",
            " m2: -18.59689851373811 \n",
            " m3: -0.17777295324286058 \n",
            " m4: -0.3435111664280745 \n",
            " m5: -0.06268840609878333 \n",
            " m6: 121.66757242757322 \n",
            " c: -11.127523959316473\n"
          ]
        }
      ]
    },
    {
      "cell_type": "code",
      "metadata": {
        "colab": {
          "base_uri": "https://localhost:8080/"
        },
        "id": "PU5n7ZTM6rY5",
        "outputId": "0a8bc45f-a993-421d-a478-92420fc3a0bb"
      },
      "source": [
        "#Predicted Y:\n",
        "pred_y =[]\n",
        "\n",
        "for i in range (n):\n",
        "  pred_y.append(m1*X1[i]+m2*X2[i]+m3*X3[i]+m4*X4[i]+m5*X5[i]+m6*X6[i]+c)\n",
        "  \n",
        "#R2 and Ajusted R2 values\n",
        "SS_Residual = SS_total = 0\n",
        "for i in range(n):\n",
        "  SS_Residual+=((Y[i] - pred_y[i])**2)\n",
        "  SS_total+=((Y[i] - np.mean(Y))**2)\n",
        "\n",
        "R2 = 1- (SS_Residual/SS_total)\n",
        "Adj_R2 = 1 - (1-R2)*((n-1)/(n-6-1)) \n",
        "print(\"R2 value:\", R2, \"Adj_R2 value:\", Adj_R2)"
      ],
      "execution_count": null,
      "outputs": [
        {
          "output_type": "stream",
          "name": "stdout",
          "text": [
            "R2 value: 0.6573437431428346 Adj_R2 value: 0.6505133858632899\n"
          ]
        }
      ]
    },
    {
      "cell_type": "markdown",
      "metadata": {
        "id": "-GZV7eKs7k03"
      },
      "source": [
        "# **Analytical Gradient Descent:**"
      ]
    },
    {
      "cell_type": "code",
      "metadata": {
        "colab": {
          "base_uri": "https://localhost:8080/"
        },
        "id": "-o7bXoAc8cvI",
        "outputId": "9b594ac9-30e9-42c8-f5ef-9f791af23cef"
      },
      "source": [
        "a = np.array([[sum(x12),sum(x1x2),sum(x1x3),sum(x1x4),sum(x1x5),sum(x1x6),sum(X1)], \n",
        "              [sum(x1x2),sum(x22),sum(x2x3),sum(x2x4),sum(x2x5),sum(x2x6),sum(X2)],\n",
        "              [sum(x1x3),sum(x2x3),sum(x32),sum(x3x4),sum(x3x5),sum(x3x6),sum(X3)],\n",
        "              [sum(x1x4),sum(x2x4),sum(x3x4),sum(x42),sum(x4x5),sum(x4x6),sum(X4)],\n",
        "              [sum(x1x5),sum(x2x5),sum(x3x5),sum(x4x5),sum(x52),sum(x5x6),sum(X5)],\n",
        "              [sum(x1x6),sum(x2x6),sum(x3x6),sum(x4x6),sum(x5x6),sum(x62),sum(X6)],\n",
        "              [sum(X1), sum(X2), sum(X3), sum(X4), sum(X5), sum(X6), n]])\n",
        "b = np.array([sum(x1y), sum(x2y), sum(x3y), sum(x4y), sum(x5y), sum(x6y), sum(Y)])\n",
        "Sol=np.linalg.solve(a,b)\n",
        "m1 = Sol[0]\n",
        "m2 = Sol[1]\n",
        "m3 = Sol[2]\n",
        "m4 = Sol[3]\n",
        "m5 = Sol[4]\n",
        "m6 = Sol[5]\n",
        "c = Sol[6]\n",
        "print(\" m1:\", m1,\"\\n\",\n",
        "      \"m2:\", m2,\"\\n\",\n",
        "      \"m3:\", m3,\"\\n\",\n",
        "      \"m4:\", m4,\"\\n\",\n",
        "      \"m5:\", m5,\"\\n\",\n",
        "      \"m6:\", m6,\"\\n\",\n",
        "      \"c:\", c)"
      ],
      "execution_count": null,
      "outputs": [
        {
          "output_type": "stream",
          "name": "stdout",
          "text": [
            " m1: 0.1938443362247513 \n",
            " m2: -6.419375927745614 \n",
            " m3: 4.232998632551539 \n",
            " m4: -1.765694811473923 \n",
            " m5: -4.516431772721753 \n",
            " m6: 121.66757242757215 \n",
            " c: -19.236660788915305\n"
          ]
        }
      ]
    },
    {
      "cell_type": "code",
      "metadata": {
        "colab": {
          "base_uri": "https://localhost:8080/"
        },
        "id": "2OQwK_dK8c6u",
        "outputId": "9f1b871a-49bc-4d99-b1cd-1884482b33e4"
      },
      "source": [
        "#Predicted Y:\n",
        "pred_y =[]\n",
        "\n",
        "for i in range (n):\n",
        "  pred_y.append(m1*X1[i]+m2*X2[i]+m3*X3[i]+m4*X4[i]+m5*X5[i]+m6*X6[i]+c)\n",
        "  \n",
        "#R2 and Ajusted R2 values\n",
        "SS_Residual = SS_total = 0\n",
        "for i in range(n):\n",
        "  SS_Residual+=((Y[i] - pred_y[i])**2)\n",
        "  SS_total+=((Y[i] - np.mean(Y))**2)\n",
        "\n",
        "R2 = 1- (SS_Residual/SS_total)\n",
        "Adj_R2 = 1 - (1-R2)*((n-1)/(n-6-1)) \n",
        "print(\"R2 value:\", R2, \"Adj_R2 value:\", Adj_R2)"
      ],
      "execution_count": null,
      "outputs": [
        {
          "output_type": "stream",
          "name": "stdout",
          "text": [
            "R2 value: 0.6575638322504073 Adj_R2 value: 0.650737862129153\n"
          ]
        }
      ]
    },
    {
      "cell_type": "markdown",
      "metadata": {
        "id": "wDcHdH2D8daX"
      },
      "source": [
        "# **Correlation**"
      ]
    },
    {
      "cell_type": "code",
      "metadata": {
        "colab": {
          "base_uri": "https://localhost:8080/"
        },
        "id": "5poBelUx8gKf",
        "outputId": "d5c07415-3d64-4c75-ccb8-173c8aaffabe"
      },
      "source": [
        "from scipy.stats import pearsonr\n",
        "r1,_ = pearsonr(X1,Y)\n",
        "r2,_ = pearsonr(X2,Y)\n",
        "r3,_ = pearsonr(X3,Y)\n",
        "r4,_ = pearsonr(X4,Y)\n",
        "r5,_ = pearsonr(X5,Y)\n",
        "r6,_ = pearsonr(X6,Y)\n",
        "\n",
        "m1 = r1*(sum(Y)/sum(X1))\n",
        "m2 = r2*(sum(Y)/sum(X2))\n",
        "m3 = r3*(sum(Y)/sum(X3))\n",
        "m4 = r4*(sum(Y)/sum(X4))\n",
        "m5 = r5*(sum(Y)/sum(X5))\n",
        "m6 = r6*(sum(Y)/sum(X6))\n",
        "c= (sum(Y) - m1*sum(X1)- m2*sum(X2) - m3*sum(X3) - m4*sum(X4) - m5*sum(X5) - m6*sum(X6) )/n\n",
        "\n",
        "print(\"m1:\", m1,\"\\n\",\n",
        "      \"m2:\", m2,\"\\n\",\n",
        "      \"m3:\", m3,\"\\n\",\n",
        "      \"m4:\", m4,\"\\n\",\n",
        "      \"m5:\", m5,\"\\n\",\n",
        "      \"m6:\", m6,\"\\n\",\n",
        "      \"c:\", c)"
      ],
      "execution_count": null,
      "outputs": [
        {
          "output_type": "stream",
          "name": "stdout",
          "text": [
            "m1: -0.0850716290081626 \n",
            " m2: -0.5315082276991635 \n",
            " m3: -0.006503636512838151 \n",
            " m4: -0.033114101461447276 \n",
            " m5: -0.0033561836741930135 \n",
            " m6: 29.5728946463301 \n",
            " c: 2.26263831596289\n"
          ]
        }
      ]
    },
    {
      "cell_type": "code",
      "metadata": {
        "colab": {
          "base_uri": "https://localhost:8080/"
        },
        "id": "qEBfEht68q0Y",
        "outputId": "d273be32-2c66-4f07-e1a3-42ab654055ce"
      },
      "source": [
        "#Predicted Y:\n",
        "pred_y =[]\n",
        "\n",
        "for i in range (n):\n",
        "  pred_y.append(m1*X1[i]+m2*X2[i]+m3*X3[i]+m4*X4[i]+m5*X5[i]+m6*X6[i]+c)\n",
        "  \n",
        "#R2 and Ajusted R2 values\n",
        "SS_Residual = SS_total = 0\n",
        "for i in range(n):\n",
        "  SS_Residual+=((Y[i] - pred_y[i])**2)\n",
        "  SS_total+=((Y[i] - np.mean(Y))**2)\n",
        "\n",
        "R2 = 1- (SS_Residual/SS_total)\n",
        "Adj_R2 = 1 - (1-R2)*((n-1)/(n-6-1)) \n",
        "print(\"R2 value:\", R2, \"Adj_R2 value:\", Adj_R2)"
      ],
      "execution_count": null,
      "outputs": [
        {
          "output_type": "stream",
          "name": "stdout",
          "text": [
            "R2 value: 0.2799234475650735 Adj_R2 value: 0.265569762134477\n"
          ]
        }
      ]
    },
    {
      "cell_type": "markdown",
      "metadata": {
        "id": "zV6o7iUXA875"
      },
      "source": [
        "**Inference:**\n",
        "\n",
        "**LSR:**\n",
        "\n",
        "R2     = 0.6573437431428346\n",
        "\n",
        "Adj_R2 = 0.6505133858632899\n",
        "\n",
        "**GD:**\n",
        "\n",
        "R2     =  0.6575638322504073\n",
        "\n",
        "Adj_R2 =  0.650737862129153\n",
        "\n",
        "**Correlation:**\n",
        "\n",
        "R2     =  0.2799234475650735\n",
        "\n",
        "Adj_R2 =  0.265569762134477\n",
        "\n",
        "**Hence, GD > LSR > Correlation**,The dataset is best suited for GD\n",
        "\n"
      ]
    }
  ]
}